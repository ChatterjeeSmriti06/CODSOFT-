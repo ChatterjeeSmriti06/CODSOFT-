{
 "cells": [
  {
   "cell_type": "code",
   "execution_count": 13,
   "id": "777f7ea6",
   "metadata": {},
   "outputs": [
    {
     "name": "stdout",
     "output_type": "stream",
     "text": [
      "Enter the first number: 5\n",
      "Enter the second number: 4\n",
      "Enter choice:('+' to ADD '-' to SUBTRACT '*' to MULTIPLY '/' to DIVIDE '^' to FIND POWER '^2' to FIND SQUARE): ^2\n",
      "The output is: 25\n"
     ]
    }
   ],
   "source": [
    "a=int(input(\"Enter the first number: \"))\n",
    "b=int(input(\"Enter the second number: \"))\n",
    "c=input(\"Enter choice:('+' to ADD '-' to SUBTRACT '*' to MULTIPLY '/' to DIVIDE '^' to FIND POWER '^2' to FIND SQUARE): \")\n",
    "if (c== '+'):\n",
    "        sum=a+b\n",
    "        print(\"The output is: \",sum)\n",
    "elif (c=='-'):\n",
    "        sub=a-b\n",
    "        print(\"The output is: \",sub)\n",
    "elif (c=='*'):\n",
    "        pdt=a*b\n",
    "        print(\"The output is: \",pdt)\n",
    "elif (c=='/'):\n",
    "        div=a/b\n",
    "        print(\"The output is:\" ,div)\n",
    "elif(c=='^'):\n",
    "    i=0\n",
    "    num=1\n",
    "    for i in range (0,b):\n",
    "        num=num*a\n",
    "    print(\"The output is:\", num)\n",
    "else:\n",
    "    print(\"The output is:\",a*a)"
   ]
  },
  {
   "cell_type": "code",
   "execution_count": null,
   "id": "3f27eef0",
   "metadata": {},
   "outputs": [],
   "source": []
  }
 ],
 "metadata": {
  "kernelspec": {
   "display_name": "Python 3 (ipykernel)",
   "language": "python",
   "name": "python3"
  },
  "language_info": {
   "codemirror_mode": {
    "name": "ipython",
    "version": 3
   },
   "file_extension": ".py",
   "mimetype": "text/x-python",
   "name": "python",
   "nbconvert_exporter": "python",
   "pygments_lexer": "ipython3",
   "version": "3.10.9"
  }
 },
 "nbformat": 4,
 "nbformat_minor": 5
}
